{
 "cells": [
  {
   "cell_type": "code",
   "execution_count": 3,
   "id": "2831f88f",
   "metadata": {},
   "outputs": [
    {
     "data": {
      "application/vnd.jupyter.widget-view+json": {
       "model_id": "917d98e101e94f4ca3117b9288e3bc1d",
       "version_major": 2,
       "version_minor": 0
      },
      "text/plain": [
       "Summarize dataset:   0%|          | 0/5 [00:00<?, ?it/s]"
      ]
     },
     "metadata": {},
     "output_type": "display_data"
    },
    {
     "name": "stderr",
     "output_type": "stream",
     "text": [
      "100%|██████████| 35/35 [00:00<00:00, 2457.70it/s]\n"
     ]
    },
    {
     "data": {
      "application/vnd.jupyter.widget-view+json": {
       "model_id": "a8feaa480a0f45f4a0bbb389a4eaadad",
       "version_major": 2,
       "version_minor": 0
      },
      "text/plain": [
       "Generate report structure:   0%|          | 0/1 [00:00<?, ?it/s]"
      ]
     },
     "metadata": {},
     "output_type": "display_data"
    },
    {
     "data": {
      "application/vnd.jupyter.widget-view+json": {
       "model_id": "8de42a33af8e45e7967ab379c5380251",
       "version_major": 2,
       "version_minor": 0
      },
      "text/plain": [
       "Render HTML:   0%|          | 0/1 [00:00<?, ?it/s]"
      ]
     },
     "metadata": {},
     "output_type": "display_data"
    },
    {
     "name": "stderr",
     "output_type": "stream",
     "text": [
      "/Users/stewartrobertson/opt/miniconda3/envs/ydata-profiling/lib/python3.10/site-packages/ydata_profiling/profile_report.py:386: UserWarning: Extension  not supported. For now we assume .html was intended. To remove this warning, please use .html or .json.\n",
      "  warnings.warn(\n"
     ]
    },
    {
     "data": {
      "application/vnd.jupyter.widget-view+json": {
       "model_id": "e97fb1627b424aba91cef3a1286f75ad",
       "version_major": 2,
       "version_minor": 0
      },
      "text/plain": [
       "Export report to file:   0%|          | 0/1 [00:00<?, ?it/s]"
      ]
     },
     "metadata": {},
     "output_type": "display_data"
    }
   ],
   "source": [
    "from ydata_profiling import ProfileReport\n",
    "from htmldocx import HtmlToDocx\n",
    "import pandas as pd\n",
    "\n",
    "# Load the dataset\n",
    "dataset_name = input(\"Enter the name of the dataset: \") + \".csv\"\n",
    "df = pd.read_csv('../data/' + dataset_name)\n",
    "\n",
    "# Generate the profile report\n",
    "profile = ProfileReport(df, title=\"Profile Report\")\n",
    "profile.to_file(dataset_name.split(\".\")[0] + \"_profile_report\")\n",
    "\n",
    "# Convert the HTML report to a DOCX file so that Gamma can ingest it\n",
    "html_parser = HtmlToDocx()\n",
    "html_parser.parse_html_file(dataset_name.split(\".\")[0] + \"_profile_report.html\", dataset_name.split(\".\")[0] + \"_profile_report\")"
   ]
  },
  {
   "cell_type": "code",
   "execution_count": null,
   "id": "13a48f7e",
   "metadata": {},
   "outputs": [],
   "source": []
  }
 ],
 "metadata": {
  "kernelspec": {
   "display_name": "ydata-profiling",
   "language": "python",
   "name": "python3"
  },
  "language_info": {
   "codemirror_mode": {
    "name": "ipython",
    "version": 3
   },
   "file_extension": ".py",
   "mimetype": "text/x-python",
   "name": "python",
   "nbconvert_exporter": "python",
   "pygments_lexer": "ipython3",
   "version": "3.10.0"
  }
 },
 "nbformat": 4,
 "nbformat_minor": 5
}
